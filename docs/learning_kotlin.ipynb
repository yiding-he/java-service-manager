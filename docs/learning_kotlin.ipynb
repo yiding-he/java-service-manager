{
 "cells": [
  {
   "cell_type": "code",
   "execution_count": 10,
   "metadata": {
    "collapsed": true,
    "ExecuteTime": {
     "end_time": "2023-07-05T09:35:12.385201800Z",
     "start_time": "2023-07-05T09:35:12.303667900Z"
    }
   },
   "outputs": [
    {
     "data": {
      "text/plain": "Arguments: 1, 2, 3"
     },
     "execution_count": 10,
     "metadata": {},
     "output_type": "execute_result"
    }
   ],
   "source": [
    "var args: Array<String> = arrayOf(\"1\", \"2\", \"3\")\n",
    "\"Arguments: ${args.joinToString(separator = \", \")}\""
   ]
  },
  {
   "cell_type": "code",
   "execution_count": 14,
   "outputs": [
    {
     "data": {
      "text/plain": "Name: Jamal, Age: 18, Dead: false"
     },
     "execution_count": 14,
     "metadata": {},
     "output_type": "execute_result"
    }
   ],
   "source": [
    "var name: String = \"Jamal\"\n",
    "var age: Int = 18\n",
    "val dead = false\n",
    "\"Name: ${name}, Age: ${age}, Dead: ${dead}\""
   ],
   "metadata": {
    "collapsed": false,
    "ExecuteTime": {
     "end_time": "2023-07-05T09:43:27.232200300Z",
     "start_time": "2023-07-05T09:43:27.170753400Z"
    }
   }
  },
  {
   "cell_type": "code",
   "execution_count": 16,
   "outputs": [
    {
     "data": {
      "text/plain": "3.14"
     },
     "execution_count": 16,
     "metadata": {},
     "output_type": "execute_result"
    }
   ],
   "source": [
    "object Consts {\n",
    "    const val PI = 3.14\n",
    "}\n",
    "Consts.PI"
   ],
   "metadata": {
    "collapsed": false,
    "ExecuteTime": {
     "end_time": "2023-07-05T09:46:37.413124Z",
     "start_time": "2023-07-05T09:46:37.357874200Z"
    }
   }
  },
  {
   "cell_type": "code",
   "execution_count": 17,
   "outputs": [
    {
     "data": {
      "text/plain": "JAMILA"
     },
     "execution_count": 17,
     "metadata": {},
     "output_type": "execute_result"
    }
   ],
   "source": [
    "var name = \"Jamila\"\n",
    "name.uppercase()"
   ],
   "metadata": {
    "collapsed": false,
    "ExecuteTime": {
     "end_time": "2023-07-05T09:48:31.271879700Z",
     "start_time": "2023-07-05T09:48:31.198706200Z"
    }
   }
  },
  {
   "cell_type": "code",
   "execution_count": 19,
   "outputs": [
    {
     "data": {
      "text/plain": "null"
     },
     "execution_count": 19,
     "metadata": {},
     "output_type": "execute_result"
    }
   ],
   "source": [
    "var brand: String? = \"Amigoscode\"\n",
    "brand = null\n",
    "brand?.uppercase()"
   ],
   "metadata": {
    "collapsed": false,
    "ExecuteTime": {
     "end_time": "2023-07-05T09:50:19.832314Z",
     "start_time": "2023-07-05T09:50:19.770666300Z"
    }
   }
  }
 ],
 "metadata": {
  "kernelspec": {
   "display_name": "Kotlin",
   "language": "kotlin",
   "name": "kotlin"
  },
  "language_info": {
   "name": "kotlin",
   "version": "1.8.20",
   "mimetype": "text/x-kotlin",
   "file_extension": ".kt",
   "pygments_lexer": "kotlin",
   "codemirror_mode": "text/x-kotlin",
   "nbconvert_exporter": ""
  },
  "ktnbPluginMetadata": {
   "isBuildProject": true
  }
 },
 "nbformat": 4,
 "nbformat_minor": 0
}
